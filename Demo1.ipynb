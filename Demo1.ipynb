{
 "cells": [
  {
   "cell_type": "markdown",
   "id": "b70f6d5d",
   "metadata": {},
   "source": [
    "<img src=\"https://www.sturgischarterschool.com/wp-content/uploads/2019/06/sturgisheader_logo.png\" alt=\"sturgis\" width=\"250\" align=\"right\"/>\n",
    "\n",
    "## Computer Science Demo Notebook 1\n",
    "### Sturgis Charter Public School "
   ]
  },
  {
   "cell_type": "markdown",
   "id": "20c5d431",
   "metadata": {},
   "source": [
    "#### Narrative\n",
    "\n",
    "Demo notebooks are not assignments. Rather they are an opportunity for me to lecture or pre-record a demonstration of some particular computer science code or principles. Please note that it is not an expectation that you learn everything that is demonstrated in a demo on the first pass. Sometimes I will mix in some more advanced concepts, in order for you to see the direction we're headed. \n",
    "\n",
    "#### The Scenario\n",
    "\n",
    "Imagine that we are working for a company that receives customer feedback forms, and our boss has directed us to sort these forms into various groupings. Additionally this company has three different stores, and they want to be able to see if there are trends that are different between each store. Your job is to write a function which takes these reviews and makes sense of them. \n",
    "\n",
    "There are three documents, one for each store, and in each document a review will inhabit a single line (that's conveniently simple). Each review will be a narrative sentence, followed by a series of word number pairs. It will look something like this. \n",
    "\n",
    "> \"This store is awesome I love that I can buy anything I want. Great staff.\" staff: 5/5, cleanliness 3/5, selection: 4/5\n",
    "\n",
    "Now the first thing to note is that the simple data structures of int, str and the like are not going to get us where we want. The first thing to think about is how do we want to break this down. "
   ]
  },
  {
   "cell_type": "code",
   "execution_count": null,
   "id": "06da1d7a",
   "metadata": {},
   "outputs": [],
   "source": [
    "#The first thing we're going to need to do is open \n",
    "file = open(\"store1.txt\", \"r\")\n",
    "s1 = file.read()\n",
    "file.close()\n",
    "\n",
    "file = open(\"store2.txt\", \"r\")\n",
    "s2 = file.read()\n",
    "file.close()\n",
    "\n",
    "file = open(\"store3.txt\", \"r\")\n",
    "s3 = file.read()\n",
    "file.close()"
   ]
  },
  {
   "cell_type": "code",
   "execution_count": null,
   "id": "13a237ce",
   "metadata": {},
   "outputs": [],
   "source": [
    "#We can check to see if this did what we wanted by printing out the variables s1, s2, s3\n",
    "print(s1, '\\n', s2, '\\n', s3)"
   ]
  },
  {
   "cell_type": "markdown",
   "id": "c4562aed",
   "metadata": {},
   "source": [
    "#### Reformatting data\n",
    "\n",
    "One of the key things to remember is that a variable is happy to change at any point. We can also create new variables. Right now I have three strings, but that's not very useful to me. I can't do much with that. Let's try and split these into meaningful chunks. \n",
    "\n",
    "One thing to keep in mind. I'm going to teach you the simplest way to do this, which in reality means a more difficult way. We'll talk about imports at a future point. \n",
    "\n",
    "So let's first ask ourselves this question: How do we know when we want to break up the string? Let's take a look at just one of the stores. "
   ]
  },
  {
   "cell_type": "code",
   "execution_count": null,
   "id": "953953b2",
   "metadata": {},
   "outputs": [],
   "source": [
    "print(repr(s1))\n",
    "#pay close attention to \\n. What do you think that's doing there?"
   ]
  },
  {
   "cell_type": "code",
   "execution_count": null,
   "id": "04e0f155",
   "metadata": {},
   "outputs": [],
   "source": [
    "#Let's see if we can break this up. \n",
    "reviews = [] #We'll make an empty list. lists are great for holding a series of data that we can then manipulate.\n",
    "rev = ''\n",
    "for character in s1:\n",
    "    if character == '\\n':\n",
    "        reviews.append(rev)\n",
    "        rev = ''\n",
    "    else:\n",
    "        rev = rev + character\n",
    "        \n",
    "#Now let's make sure we got everything\n",
    "print(len(reviews)) #this is asking me to print the length of my list 'reviews'"
   ]
  },
  {
   "cell_type": "code",
   "execution_count": null,
   "id": "5ab34974",
   "metadata": {},
   "outputs": [],
   "source": [
    "#And we could call each str from the list one at a time. Let's number them for fun. \n",
    "for i, line in enumerate(reviews):\n",
    "    print(i, line)"
   ]
  },
  {
   "cell_type": "markdown",
   "id": "7564982f",
   "metadata": {},
   "source": [
    "#### Slices\n",
    "\n",
    "Now, can you imagine what I want to do next? Let's split the text review from the score reviews. \n",
    "\n",
    "Let's do something a little different here. Instead of using the quotes, let's use the fact that the second half\n",
    "\n",
    ">  staff: 5/5, cleanliness 3/5, selection: 4/5\n",
    "\n",
    "Let's see how many characters that is. \n",
    "\n",
    "`print(len(\" staff: 5/5, cleanliness 3/5, selection: 4/5\"))`\n",
    "\n",
    "`44`"
   ]
  },
  {
   "cell_type": "code",
   "execution_count": null,
   "id": "f7a8cb39",
   "metadata": {},
   "outputs": [],
   "source": [
    "for line in reviews:\n",
    "    print(line[:-44])\n",
    "    print(line[-44:])"
   ]
  },
  {
   "cell_type": "code",
   "execution_count": null,
   "id": "4f326865",
   "metadata": {},
   "outputs": [],
   "source": [
    "#But what I really want is to build a new data structure that has both of these pieces, that I could manipulate. \n",
    "#Let's run through it one more time. \n",
    "refined = []\n",
    "for line in reviews:\n",
    "    refined.append((line[:-44], line[-44:])) #note the extra set of parenthesis"
   ]
  },
  {
   "cell_type": "code",
   "execution_count": null,
   "id": "e257bff9",
   "metadata": {},
   "outputs": [],
   "source": [
    "#Now I could access just one or the other. \n",
    "for line in refined:\n",
    "    print(line[1])"
   ]
  },
  {
   "cell_type": "code",
   "execution_count": null,
   "id": "e43c24ec",
   "metadata": {},
   "outputs": [],
   "source": [
    "# Now, let's see if we can find out how this store did overall. \n",
    "# To do this, I'm going to use a dictionary. This dictionary is going to have three keys, and each key must have a value.\n",
    "# First we'll make our dictionary.\n",
    "dictscores = {'staff': 0, 'cleanliness': 0, 'selection': 0}\n",
    "print(dictscores)"
   ]
  },
  {
   "cell_type": "code",
   "execution_count": null,
   "id": "5d8361f1",
   "metadata": {},
   "outputs": [],
   "source": [
    "#Now it's just a matter of collecting the numbers\n",
    "\n",
    "#Let's work on the fact that we know each line is going to have only 6 numbers, and 1, 3 and 5 are the ones we want.\n",
    "matches = ['1', '2', '3', '4' ,'5']\n",
    "scores = []\n",
    "for line in refined:\n",
    "    for character in line[1]:\n",
    "        if character in matches:\n",
    "            scores.append(character)\n",
    "print(scores)"
   ]
  },
  {
   "cell_type": "code",
   "execution_count": null,
   "id": "a81ab078",
   "metadata": {},
   "outputs": [],
   "source": [
    "#Now it's time to extract the numbers we want. \n",
    "# let's use the modulus to find the odd numbers\n",
    "rscore = []\n",
    "for i, score in enumerate(scores):\n",
    "    if i % 2 == 1:\n",
    "        pass\n",
    "    else:\n",
    "        print(i, score)\n",
    "        rscore.append(score)"
   ]
  },
  {
   "cell_type": "code",
   "execution_count": null,
   "id": "b9e7fc8d",
   "metadata": {},
   "outputs": [],
   "source": [
    "#Finally we can simply cycle through the three and add them to our dictionary. \n",
    "dictscores = {'staff': 0, 'cleanliness': 0, 'selection': 0}\n",
    "\n",
    "key = 'staff'\n",
    "for score in rscore:\n",
    "    if key == 'staff':\n",
    "        dictscores[key] += int(score)\n",
    "        key = 'cleanliness'\n",
    "    elif key == 'cleanliness':\n",
    "        dictscores[key] += int(score)\n",
    "        key = 'selection'\n",
    "    elif key == 'selection':\n",
    "        dictscores[key] += int(score)\n",
    "        key = 'staff'\n",
    "print(dictscores)"
   ]
  },
  {
   "cell_type": "code",
   "execution_count": null,
   "id": "3f052459",
   "metadata": {},
   "outputs": [],
   "source": [
    "#And we'll stop there for the time being. Thanks for participating in this demo!\n",
    "#Now if you want to practice. Try doing the comparison. Which of the three stores has the best overall score?"
   ]
  }
 ],
 "metadata": {
  "kernelspec": {
   "display_name": "Python 3 (ipykernel)",
   "language": "python",
   "name": "python3"
  },
  "language_info": {
   "codemirror_mode": {
    "name": "ipython",
    "version": 3
   },
   "file_extension": ".py",
   "mimetype": "text/x-python",
   "name": "python",
   "nbconvert_exporter": "python",
   "pygments_lexer": "ipython3",
   "version": "3.9.7"
  }
 },
 "nbformat": 4,
 "nbformat_minor": 5
}
